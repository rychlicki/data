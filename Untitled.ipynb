{
 "cells": [
  {
   "cell_type": "code",
   "execution_count": 206,
   "metadata": {},
   "outputs": [],
   "source": [
    "import pandas as pd\n",
    "from matplotlib import pyplot as plt\n",
    "from collections import Counter\n",
    "import numpy as np"
   ]
  },
  {
   "cell_type": "code",
   "execution_count": 207,
   "metadata": {
    "scrolled": true
   },
   "outputs": [],
   "source": [
    "data = pd.read_csv(r'C:\\Users\\srychlic\\Desktop\\GB Wrocław 2.csv', engine = \"python\", sep = \";\")\n",
    "data.rename(index=str, columns={\"Nr receptury\" : \"number\", \"Data\":'date','Wytrzymałość na ściskanie [MPa]':'strenght'}, inplace=True)"
   ]
  },
  {
   "cell_type": "code",
   "execution_count": 208,
   "metadata": {},
   "outputs": [
    {
     "data": {
      "text/plain": [
       "0    Wednesday\n",
       "1    Wednesday\n",
       "2    Wednesday\n",
       "3    Wednesday\n",
       "4    Wednesday\n",
       "Name: date, dtype: object"
      ]
     },
     "execution_count": 208,
     "metadata": {},
     "output_type": "execute_result"
    }
   ],
   "source": [
    "#data.sort_values(['number','date'], inplace = True)\n",
    "data.number = data.number.real.astype(int)\n",
    "data.strenght = data.strenght.astype(str, inplace = True)\n",
    "data.strenght = data.strenght.str.replace(\",\",'.')\n",
    "data.strenght = data.strenght.real.astype('float')\n",
    "data.date = pd.to_datetime(data['date'])\n",
    "data.date.dt.weekday_name.head()"
   ]
  },
  {
   "cell_type": "code",
   "execution_count": 126,
   "metadata": {},
   "outputs": [],
   "source": [
    "#labels, values =zip(*Counter(data.number).items())"
   ]
  },
  {
   "cell_type": "code",
   "execution_count": 6,
   "metadata": {},
   "outputs": [],
   "source": [
    "#indexes = np.arange(len(labels))"
   ]
  },
  {
   "cell_type": "code",
   "execution_count": 7,
   "metadata": {},
   "outputs": [
    {
     "data": {
      "text/plain": [
       "'width = 1\\nplt.bar(indexes, values, width)\\nplt.xticks(indexes + width *0.5,  labels)\\nplt.show()'"
      ]
     },
     "execution_count": 7,
     "metadata": {},
     "output_type": "execute_result"
    }
   ],
   "source": [
    "\"\"\"width = 1\n",
    "plt.bar(indexes, values, width)\n",
    "plt.xticks(indexes + width *0.5,  labels)\n",
    "plt.show()\"\"\""
   ]
  },
  {
   "cell_type": "code",
   "execution_count": 209,
   "metadata": {},
   "outputs": [],
   "source": [
    "data['month']=data.date.dt.month\n",
    "data['year']=data.date.dt.year\n",
    "data['day']=data.date.dt.day"
   ]
  },
  {
   "cell_type": "code",
   "execution_count": 210,
   "metadata": {},
   "outputs": [
    {
     "data": {
      "text/plain": [
       "<matplotlib.axes._subplots.AxesSubplot at 0x1b3c6a20>"
      ]
     },
     "execution_count": 210,
     "metadata": {},
     "output_type": "execute_result"
    },
    {
     "data": {
      "image/png": "[encoded data removed]",
      "text/plain": [
       "<Figure size 432x288 with 1 Axes>"
      ]
     },
     "metadata": {
      "needs_background": "light"
     },
     "output_type": "display_data"
    }
   ],
   "source": [
    "%matplotlib inline\n",
    "data1= data.loc[(data.number == 437308) & (data.year == 2018)]\n",
    "data1.groupby(['year','month']).strenght.agg(['mean','count']).sort_index().head(24).plot(kind='bar')\n"
   ]
  },
  {
   "cell_type": "code",
   "execution_count": 211,
   "metadata": {
    "scrolled": true
   },
   "outputs": [
    {
     "data": {
      "text/plain": [
       "<matplotlib.axes._subplots.AxesSubplot at 0x1b670c50>"
      ]
     },
     "execution_count": 211,
     "metadata": {},
     "output_type": "execute_result"
    },
    {
     "data": {
      "image/png": "[encoded data removed]",
      "text/plain": [
       "<Figure size 432x288 with 1 Axes>"
      ]
     },
     "metadata": {
      "needs_background": "light"
     },
     "output_type": "display_data"
    }
   ],
   "source": [
    "data.year.value_counts().sort_index().plot('bar')"
   ]
  },
  {
   "cell_type": "code",
   "execution_count": 235,
   "metadata": {},
   "outputs": [],
   "source": [
    "data1 = data.groupby(['number', 'year', 'month'])"
   ]
  },
  {
   "cell_type": "code",
   "execution_count": 238,
   "metadata": {},
   "outputs": [],
   "source": [
    "data1 = data1.std().strenght\n"
   ]
  },
  {
   "cell_type": "code",
   "execution_count": 239,
   "metadata": {},
   "outputs": [
    {
     "data": {
      "text/plain": [
       "number   year  month\n",
       "110320   2013  11             NaN\n",
       "               12        0.565685\n",
       "         2014  1         2.916180\n",
       "               2         1.367926\n",
       "               3         1.535415\n",
       "               4         1.686219\n",
       "               5         2.040261\n",
       "               6         1.272792\n",
       "               7         1.294218\n",
       "               8         1.624124\n",
       "               9         0.494975\n",
       "               10        2.899138\n",
       "               12             NaN\n",
       "         2015  1              NaN\n",
       "               2              NaN\n",
       "               3              NaN\n",
       "               8              NaN\n",
       "               9         0.450925\n",
       "         2016  2              NaN\n",
       "         2017  3         3.645447\n",
       "         2018  11             NaN\n",
       "               12             NaN\n",
       "110340   2014  2              NaN\n",
       "               10        1.593738\n",
       "               11             NaN\n",
       "               12             NaN\n",
       "         2015  8         0.952347\n",
       "               9         1.452152\n",
       "               10        0.701783\n",
       "               11        2.083747\n",
       "                          ...    \n",
       "937413   2013  12             NaN\n",
       "         2014  7              NaN\n",
       "937440   2015  1         2.333024\n",
       "937445   2016  2         0.702377\n",
       "         2018  9         1.414214\n",
       "937446   2018  4         8.645326\n",
       "               9         4.123106\n",
       "               10        1.767767\n",
       "937456   2016  10       12.995878\n",
       "937913   2015  9              NaN\n",
       "               10        5.282972\n",
       "               11        4.311120\n",
       "         2016  2         2.443358\n",
       "               3         2.877913\n",
       "               4         1.484924\n",
       "               8         2.875761\n",
       "               9         5.383679\n",
       "937965   2016  9         0.212132\n",
       "937969   2016  9         2.407696\n",
       "               10        0.141421\n",
       "945200   2015  2         0.353553\n",
       "               12             NaN\n",
       "         2016  1         1.484924\n",
       "945213   2015  2         3.793086\n",
       "               3         3.639597\n",
       "               4         0.848528\n",
       "         2016  1         2.610236\n",
       "950313   2016  6         2.474874\n",
       "960113   2015  2         1.131371\n",
       "4303048  2018  2         4.819665\n",
       "Name: strenght, Length: 2025, dtype: float64"
      ]
     },
     "execution_count": 239,
     "metadata": {},
     "output_type": "execute_result"
    }
   ],
   "source": [
    "data1"
   ]
  },
  {
   "cell_type": "code",
   "execution_count": null,
   "metadata": {},
   "outputs": [],
   "source": []
  }
 ],
 "metadata": {
  "kernelspec": {
   "display_name": "Python 3",
   "language": "python",
   "name": "python3"
  },
  "language_info": {
   "codemirror_mode": {
    "name": "ipython",
    "version": 3
   },
   "file_extension": ".py",
   "mimetype": "text/x-python",
   "name": "python",
   "nbconvert_exporter": "python",
   "pygments_lexer": "ipython3",
   "version": "3.6.5"
  }
 },
 "nbformat": 4,
 "nbformat_minor": 2
}
